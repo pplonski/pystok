{
 "cells": [
  {
   "cell_type": "raw",
   "metadata": {
    "slideshow": {
     "slide_type": "skip"
    }
   },
   "source": [
    "---\n",
    "title: Final Slides\n",
    "description: Final slides \n",
    "output: slides\n",
    "show-code: False\n",
    "format:\n",
    "    theme: black\n",
    "---"
   ]
  },
  {
   "cell_type": "markdown",
   "metadata": {
    "slideshow": {
     "slide_type": "slide"
    }
   },
   "source": [
    "# Dziękuję!\n",
    "\n",
    "- Website <a href=\"https://mljar.com\" target=\"_blank\">https://mljar.com</a>\n",
    "- GitHub <a href=\"https://github.com/mljar\" target=\"_blank\">https://github.com/mljar</a>\n",
    "- Email contact@mljar.com"
   ]
  }
 ],
 "metadata": {
  "celltoolbar": "Slideshow",
  "kernelspec": {
   "display_name": "pystokenv",
   "language": "python",
   "name": "pystokenv"
  },
  "language_info": {
   "codemirror_mode": {
    "name": "ipython",
    "version": 3
   },
   "file_extension": ".py",
   "mimetype": "text/x-python",
   "name": "python",
   "nbconvert_exporter": "python",
   "pygments_lexer": "ipython3",
   "version": "3.8.10"
  }
 },
 "nbformat": 4,
 "nbformat_minor": 4
}
