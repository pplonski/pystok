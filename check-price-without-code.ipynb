{
 "cells": [
  {
   "cell_type": "raw",
   "metadata": {},
   "source": [
    "---\n",
    "title: 📈 Check crypto price (no-code)\n",
    "description: Select coin and check its price\n",
    "show-code: False\n",
    "params:\n",
    "    symbol:\n",
    "        input: select\n",
    "        value: BTCUSDT\n",
    "        label: Wybierz crypto\n",
    "        choices: [BTCUSDT, ETHUSDT]\n",
    "---"
   ]
  },
  {
   "cell_type": "code",
   "execution_count": 1,
   "metadata": {},
   "outputs": [],
   "source": [
    "symbol = \"BTCUSDT\""
   ]
  },
  {
   "cell_type": "markdown",
   "metadata": {},
   "source": [
    "# 📈 Check crypto price"
   ]
  },
  {
   "cell_type": "code",
   "execution_count": 2,
   "metadata": {},
   "outputs": [],
   "source": [
    "import requests"
   ]
  },
  {
   "cell_type": "code",
   "execution_count": 3,
   "metadata": {},
   "outputs": [],
   "source": [
    "def get_price(symbol):\n",
    "    try:\n",
    "        r = requests.get(f\"https://www.binance.com/api/v3/ticker/price?symbol={symbol}\")\n",
    "        data = r.json()\n",
    "        price = float(data['price'])\n",
    "        return price\n",
    "    except Exception as e:\n",
    "        print({str(e)})\n",
    "    return None"
   ]
  },
  {
   "cell_type": "code",
   "execution_count": 4,
   "metadata": {},
   "outputs": [
    {
     "name": "stdout",
     "output_type": "stream",
     "text": [
      "BTCUSDT current price 19148.72\n"
     ]
    }
   ],
   "source": [
    "price = get_price(symbol)\n",
    "print(f\"{symbol} current price {price}\")"
   ]
  }
 ],
 "metadata": {
  "kernelspec": {
   "display_name": "pystokenv",
   "language": "python",
   "name": "pystokenv"
  },
  "language_info": {
   "codemirror_mode": {
    "name": "ipython",
    "version": 3
   },
   "file_extension": ".py",
   "mimetype": "text/x-python",
   "name": "python",
   "nbconvert_exporter": "python",
   "pygments_lexer": "ipython3",
   "version": "3.8.10"
  }
 },
 "nbformat": 4,
 "nbformat_minor": 4
}
