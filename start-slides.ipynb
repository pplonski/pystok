{
 "cells": [
  {
   "cell_type": "raw",
   "metadata": {
    "slideshow": {
     "slide_type": "skip"
    }
   },
   "source": [
    "---\n",
    "title: Start slides\n",
    "description: Slajdy na Pystok #50\n",
    "output: slides\n",
    "format:\n",
    "    theme: simple\n",
    "---"
   ]
  },
  {
   "cell_type": "markdown",
   "metadata": {
    "slideshow": {
     "slide_type": "slide"
    }
   },
   "source": [
    "<center>\n",
    "    <h1>Jak efektywnie dzielić się wynikami?</h1>    \n",
    "    <h2>czyli zamiana notatnika Python na aplikację webową dla nieprogramistów</h2>\n",
    "    <br />\n",
    "    <h2>Piotr Płoński</h2>\n",
    "    <br />\n",
    "    <h3>PyStok #50</h3>\n",
    "    <h3>25.05.2022</h3>\n",
    "</center>"
   ]
  },
  {
   "cell_type": "markdown",
   "metadata": {
    "slideshow": {
     "slide_type": "slide"
    }
   },
   "source": [
    "![](https://github.com/mljar/visual-identity/raw/main/mercury/mercury-new-way-to-share-python-notebook.png)"
   ]
  },
  {
   "cell_type": "markdown",
   "metadata": {
    "slideshow": {
     "slide_type": "slide"
    }
   },
   "source": [
    "\n",
    "![](https://github.com/pplonski/pystok/raw/main/media/biuro.jpg)"
   ]
  },
  {
   "cell_type": "markdown",
   "metadata": {
    "slideshow": {
     "slide_type": "slide"
    }
   },
   "source": [
    "\n",
    "![](https://github.com/pplonski/pystok/raw/main/media/biurko.jpg)"
   ]
  },
  {
   "cell_type": "markdown",
   "metadata": {
    "slideshow": {
     "slide_type": "slide"
    }
   },
   "source": [
    "# Doświadczenie akademickie\n",
    "\n",
    "\n",
    "![](https://github.com/pplonski/budapest-ml-forum-2022/raw/main/media/academic-experience.png)\n"
   ]
  },
  {
   "cell_type": "markdown",
   "metadata": {
    "slideshow": {
     "slide_type": "slide"
    }
   },
   "source": [
    "# Doświadczenie w przemyśle\n",
    "\n",
    "\n",
    "(Netezza, IBM, iQor, DirectTV, HP, Samsung, Bell Canada, ...)  \n",
    "\n",
    "![](https://github.com/pplonski/budapest-ml-forum-2022/raw/main/media/industry-experience.png)"
   ]
  },
  {
   "cell_type": "markdown",
   "metadata": {
    "slideshow": {
     "slide_type": "slide"
    }
   },
   "source": [
    "# Robota zrobiona\n",
    "\n",
    "![](https://github.com/pplonski/pystok/raw/main/media/job-done.jpg)"
   ]
  },
  {
   "cell_type": "markdown",
   "metadata": {
    "slideshow": {
     "slide_type": "slide"
    }
   },
   "source": [
    "# MLJAR - Narzędzia do Data Science \n",
    "\n",
    "W 2016, założyłem firmę [MLJAR](https://mljar.com) która pracuje nad narzędziami do Data Science.\n",
    "\n",
    "<center>\n",
    "<img \n",
    "    src=\"https://github.com/mljar/visual-identity/raw/main/logo/logo_blue.png\" \n",
    "    alt=\"MLJAR logo\"\n",
    "    width=\"300px\" />\n",
    "</center>"
   ]
  },
  {
   "cell_type": "markdown",
   "metadata": {
    "slideshow": {
     "slide_type": "slide"
    }
   },
   "source": [
    "## MLJAR AutoML\n",
    "\n",
    "Open-source Python package that works with tabular data\n",
    "\n",
    "![](https://raw.githubusercontent.com/mljar/visual-identity/main/media/infograph.png)\n"
   ]
  },
  {
   "cell_type": "markdown",
   "metadata": {
    "slideshow": {
     "slide_type": "slide"
    }
   },
   "source": [
    "# Tryby pracy\n",
    "\n",
    "![](https://raw.githubusercontent.com/mljar/visual-identity/main/media/mljar_modes.png)"
   ]
  },
  {
   "cell_type": "markdown",
   "metadata": {
    "slideshow": {
     "slide_type": "slide"
    }
   },
   "source": [
    "[https://github.com/mljar/mljar-supervised](https://github.com/mljar/mljar-supervised)\n",
    "    \n",
    "\n",
    "![](https://github.com/pplonski/pystok/raw/main/media/mljar-automl-github.png)"
   ]
  },
  {
   "cell_type": "markdown",
   "metadata": {
    "slideshow": {
     "slide_type": "slide"
    }
   },
   "source": [
    "# AutoML = sam silnik\n",
    "\n",
    "# Użytkownik chce samochód!\n",
    "\n",
    "\n",
    "![](https://github.com/pplonski/pystok/raw/main/media/engine-car.jpg)"
   ]
  },
  {
   "cell_type": "markdown",
   "metadata": {
    "slideshow": {
     "slide_type": "slide"
    }
   },
   "source": [
    "# Łatwiejszy sposób pisania programów?"
   ]
  },
  {
   "cell_type": "code",
   "execution_count": null,
   "metadata": {},
   "outputs": [],
   "source": []
  },
  {
   "cell_type": "markdown",
   "metadata": {
    "slideshow": {
     "slide_type": "slide"
    }
   },
   "source": [
    "# Jak dzielić się wynikami?\n",
    "\n",
    "![](https://github.com/pplonski/pystok/raw/main/media/analysis-ready.jpg)"
   ]
  },
  {
   "cell_type": "code",
   "execution_count": null,
   "metadata": {},
   "outputs": [],
   "source": []
  },
  {
   "cell_type": "code",
   "execution_count": null,
   "metadata": {},
   "outputs": [],
   "source": []
  },
  {
   "cell_type": "code",
   "execution_count": null,
   "metadata": {},
   "outputs": [],
   "source": []
  },
  {
   "cell_type": "code",
   "execution_count": null,
   "metadata": {
    "slideshow": {
     "slide_type": "slide"
    }
   },
   "outputs": [],
   "source": []
  },
  {
   "cell_type": "code",
   "execution_count": null,
   "metadata": {},
   "outputs": [],
   "source": []
  }
 ],
 "metadata": {
  "celltoolbar": "Slideshow",
  "kernelspec": {
   "display_name": "pystokenv",
   "language": "python",
   "name": "pystokenv"
  },
  "language_info": {
   "codemirror_mode": {
    "name": "ipython",
    "version": 3
   },
   "file_extension": ".py",
   "mimetype": "text/x-python",
   "name": "python",
   "nbconvert_exporter": "python",
   "pygments_lexer": "ipython3",
   "version": "3.8.10"
  }
 },
 "nbformat": 4,
 "nbformat_minor": 4
}
