{
 "cells": [
  {
   "cell_type": "raw",
   "metadata": {
    "slideshow": {
     "slide_type": "skip"
    }
   },
   "source": [
    "---\n",
    "title: Start slides\n",
    "description: Slajdy na Pystok #50\n",
    "output: slides\n",
    "format:\n",
    "    theme: simple\n",
    "show-code: false\n",
    "params:\n",
    "    greetings:\n",
    "        input: text\n",
    "        value: Cześć\n",
    "        label: Przywitaj się\n",
    "    points_count:\n",
    "        input: slider\n",
    "        label: Liczba punktów\n",
    "        value: 100\n",
    "        min: 50\n",
    "        max: 250\n",
    "---"
   ]
  },
  {
   "cell_type": "code",
   "execution_count": 1,
   "metadata": {
    "slideshow": {
     "slide_type": "skip"
    }
   },
   "outputs": [],
   "source": [
    "greetings = \"Cześć\"\n",
    "points_count = 250"
   ]
  },
  {
   "cell_type": "markdown",
   "metadata": {
    "slideshow": {
     "slide_type": "slide"
    }
   },
   "source": [
    "<center>\n",
    "    <h1>Jak efektywnie dzielić się wynikami?</h1>    \n",
    "    <h2>czyli zamiana notatnika Python na aplikację webową dla nieprogramistów</h2>\n",
    "    <br />\n",
    "    <h2>Piotr Płoński</h2>\n",
    "    <br />\n",
    "    <h3>PyStok #50</h3>\n",
    "    <h3>25.05.2022</h3>\n",
    "</center>"
   ]
  },
  {
   "cell_type": "markdown",
   "metadata": {
    "slideshow": {
     "slide_type": "slide"
    }
   },
   "source": [
    "## Doświadczenie akademickie\n",
    "\n",
    "\n",
    "![](https://github.com/pplonski/budapest-ml-forum-2022/raw/main/media/academic-experience.png)\n"
   ]
  },
  {
   "cell_type": "markdown",
   "metadata": {
    "slideshow": {
     "slide_type": "slide"
    }
   },
   "source": [
    "## Doświadczenie w przemyśle\n",
    "\n",
    "\n",
    "(Netezza, IBM, iQor, DirectTV, HP, Samsung, Bell Canada, ...)  \n",
    "\n",
    "![](https://github.com/pplonski/budapest-ml-forum-2022/raw/main/media/industry-experience.png)"
   ]
  },
  {
   "cell_type": "markdown",
   "metadata": {
    "slideshow": {
     "slide_type": "slide"
    }
   },
   "source": [
    "# Robota zrobiona\n",
    "\n",
    "![](https://github.com/pplonski/pystok/raw/main/media/job-done.jpg)"
   ]
  },
  {
   "cell_type": "markdown",
   "metadata": {
    "slideshow": {
     "slide_type": "slide"
    }
   },
   "source": [
    "# MLJAR - Narzędzia do Data Science \n",
    "\n",
    "W 2016, założyłem firmę [MLJAR](https://mljar.com) która pracuje nad narzędziami do Data Science.\n",
    "\n",
    "<center>\n",
    "<img \n",
    "    src=\"https://github.com/mljar/visual-identity/raw/main/logo/logo_blue.png\" \n",
    "    alt=\"MLJAR logo\"\n",
    "    width=\"300px\" />\n",
    "</center>"
   ]
  },
  {
   "cell_type": "markdown",
   "metadata": {
    "slideshow": {
     "slide_type": "slide"
    }
   },
   "source": [
    "## MLJAR AutoML\n",
    "\n",
    "Open-source Python package that works with tabular data\n",
    "\n",
    "![](https://raw.githubusercontent.com/mljar/visual-identity/main/media/infograph.png)\n"
   ]
  },
  {
   "cell_type": "markdown",
   "metadata": {
    "slideshow": {
     "slide_type": "slide"
    }
   },
   "source": [
    "## 4 tryby pracy\n",
    "\n",
    "![](https://raw.githubusercontent.com/mljar/visual-identity/main/media/mljar_modes.png)"
   ]
  },
  {
   "cell_type": "markdown",
   "metadata": {
    "slideshow": {
     "slide_type": "slide"
    }
   },
   "source": [
    "![](https://github.com/pplonski/pystok/raw/main/media/mljar-automl-github.png)"
   ]
  },
  {
   "cell_type": "markdown",
   "metadata": {
    "slideshow": {
     "slide_type": "slide"
    }
   },
   "source": [
    "## Bloxs \n",
    "\n",
    "![](https://github.com/mljar/bloxs/raw/main/docs/media/several_bloxs_2.png)\n",
    "![](https://github.com/mljar/bloxs/raw/main/docs/media/several_bloxs.png)"
   ]
  },
  {
   "cell_type": "markdown",
   "metadata": {
    "slideshow": {
     "slide_type": "slide"
    }
   },
   "source": [
    "## Mercury\n",
    "\n",
    "Open-source framework to Convert Python Notebook to web apps\n",
    "\n",
    "![](https://raw.githubusercontent.com/mljar/visual-identity/main/mercury/mercury_convert_notebook_2.png)"
   ]
  },
  {
   "cell_type": "markdown",
   "metadata": {
    "slideshow": {
     "slide_type": "slide"
    }
   },
   "source": [
    "## Jak dzielić się wynikami?\n",
    "\n",
    "![](https://github.com/pplonski/pystok/raw/main/media/analysis-ready.jpg)"
   ]
  },
  {
   "cell_type": "markdown",
   "metadata": {
    "slideshow": {
     "slide_type": "slide"
    }
   },
   "source": [
    "# How to share the notebook?\n",
    "\n",
    "## The final results needs to be shared to be meaningful. \n",
    "\n",
    "## If you cant share your results with others they are useless.\n"
   ]
  },
  {
   "cell_type": "markdown",
   "metadata": {
    "slideshow": {
     "slide_type": "slide"
    }
   },
   "source": [
    "# Share notebook source file\n",
    "\n",
    "- users need to know Python\n",
    "- have the same environment (python version + packages + hardware)\n",
    "- have access to the same data \n",
    "\n",
    "![](https://github.com/pplonski/budapest-ml-forum-2022/raw/main/media/share-notebook-photo.png)"
   ]
  },
  {
   "cell_type": "markdown",
   "metadata": {
    "slideshow": {
     "slide_type": "slide"
    }
   },
   "source": [
    "# Create a presentation\n",
    "\n",
    "- easy to share, easy to open\n",
    "- classic presentations are static - can't change values during the presentation\n",
    "- need to manually copy-paste charts/tables\n",
    "- can't write code in PPT  😟\n",
    "\n",
    "![](https://github.com/pplonski/budapest-ml-forum-2022/raw/main/media/presentation-photo.png)"
   ]
  },
  {
   "cell_type": "code",
   "execution_count": 2,
   "metadata": {
    "slideshow": {
     "slide_type": "slide"
    }
   },
   "outputs": [
    {
     "ename": "SyntaxError",
     "evalue": "invalid syntax (3796669913.py, line 3)",
     "output_type": "error",
     "traceback": [
      "\u001b[0;36m  File \u001b[0;32m\"/tmp/ipykernel_228561/3796669913.py\"\u001b[0;36m, line \u001b[0;32m3\u001b[0m\n\u001b[0;31m    - create a web app from the notebook's code (findings)\u001b[0m\n\u001b[0m             ^\u001b[0m\n\u001b[0;31mSyntaxError\u001b[0m\u001b[0;31m:\u001b[0m invalid syntax\n"
     ]
    }
   ],
   "source": [
    "# Rewrite to web framework\n",
    "\n",
    "- create a web app from the notebook's code (findings)\n",
    "- a lot of work to rewrite the notebook\n",
    "- need to know some of web development (HTML/CSS/JS)\n",
    "\n",
    "## Easy-to-use web frameworks\n",
    "\n",
    "- voila+ipywidgets, streamlit, dash\n",
    "- need to write the UI code\n",
    "- you mix the analytics code with UI code\n",
    "\n"
   ]
  },
  {
   "cell_type": "markdown",
   "metadata": {
    "slideshow": {
     "slide_type": "slide"
    }
   },
   "source": [
    "## Mercury\n",
    "\n",
    "- converts notebook to web app (report / dashboard / slides)\n",
    "- add widgets to the notebook based on YAML configuration\n",
    "- user can tweak widgets parameters and execute the notebook (from the top to the bottom)\n",
    "\n",
    "\n",
    "![](https://github.com/mljar/visual-identity/raw/main/mercury/mercury-new-way-to-share-python-notebook.png)\n"
   ]
  },
  {
   "cell_type": "code",
   "execution_count": 3,
   "metadata": {
    "slideshow": {
     "slide_type": "slide"
    }
   },
   "outputs": [
    {
     "data": {
      "text/markdown": [
       "# Cześć Białystok!"
      ],
      "text/plain": [
       "<IPython.core.display.Markdown object>"
      ]
     },
     "execution_count": 3,
     "metadata": {},
     "output_type": "execute_result"
    }
   ],
   "source": [
    "from IPython.display import Markdown\n",
    "\n",
    "Markdown(f\"# {greetings} Białystok!\")"
   ]
  },
  {
   "cell_type": "code",
   "execution_count": 7,
   "metadata": {
    "slideshow": {
     "slide_type": "slide"
    }
   },
   "outputs": [
    {
     "data": {
      "image/png": "[encoded data removed]",
      "text/plain": [
       "<Figure size 432x288 with 1 Axes>"
      ]
     },
     "metadata": {
      "needs_background": "light"
     },
     "output_type": "display_data"
    }
   ],
   "source": [
    "from matplotlib import pyplot as plt\n",
    "import random\n",
    "\n",
    "x = [random.gauss(0, 1) for _ in range(points_count)]\n",
    "y = [random.gauss(0, 1) for _ in range(points_count)]\n",
    "_=plt.plot(x, y, '.')"
   ]
  },
  {
   "cell_type": "code",
   "execution_count": null,
   "metadata": {},
   "outputs": [],
   "source": []
  }
 ],
 "metadata": {
  "celltoolbar": "Slideshow",
  "kernelspec": {
   "display_name": "pystokenv",
   "language": "python",
   "name": "pystokenv"
  },
  "language_info": {
   "codemirror_mode": {
    "name": "ipython",
    "version": 3
   },
   "file_extension": ".py",
   "mimetype": "text/x-python",
   "name": "python",
   "nbconvert_exporter": "python",
   "pygments_lexer": "ipython3",
   "version": "3.8.10"
  }
 },
 "nbformat": 4,
 "nbformat_minor": 4
}
