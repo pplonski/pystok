{
 "cells": [
  {
   "cell_type": "raw",
   "metadata": {
    "slideshow": {
     "slide_type": "skip"
    }
   },
   "source": [
    "---\n",
    "title: Slajdy 🚀 \n",
    "description: Slajdy na Pystok #50 🦬\n",
    "output: slides\n",
    "format:\n",
    "    theme: simple\n",
    "show-code: false\n",
    "params:\n",
    "    greetings:\n",
    "        input: text\n",
    "        value: Cześć\n",
    "        label: Przywitaj się\n",
    "    points_count:\n",
    "        input: slider\n",
    "        label: Liczba punktów\n",
    "        value: 200\n",
    "        min: 10\n",
    "        max: 250\n",
    "---"
   ]
  },
  {
   "cell_type": "code",
   "execution_count": 1,
   "metadata": {
    "slideshow": {
     "slide_type": "skip"
    }
   },
   "outputs": [],
   "source": [
    "greetings = \"Cześć\"\n",
    "points_count = 200"
   ]
  },
  {
   "cell_type": "markdown",
   "metadata": {
    "slideshow": {
     "slide_type": "slide"
    }
   },
   "source": [
    "<center>\n",
    "    <h1>Jak efektywnie dzielić się wynikami?</h1>    \n",
    "    <h2>czyli zamiana notatnika Python na aplikację webową dla nieprogramistów</h2>\n",
    "    <br />\n",
    "    <h2>Piotr Płoński</h2>\n",
    "    <br />\n",
    "    <h3>PyStok #50</h3>\n",
    "    <h3>25.05.2022</h3>\n",
    "</center>"
   ]
  },
  {
   "cell_type": "markdown",
   "metadata": {
    "slideshow": {
     "slide_type": "slide"
    }
   },
   "source": [
    "## Doświadczenie akademickie\n",
    "\n",
    "\n",
    "![](https://github.com/pplonski/budapest-ml-forum-2022/raw/main/media/academic-experience.png)\n"
   ]
  },
  {
   "cell_type": "markdown",
   "metadata": {
    "slideshow": {
     "slide_type": "slide"
    }
   },
   "source": [
    "## Doświadczenie w przemyśle\n",
    "\n",
    "\n",
    "(Netezza, IBM, iQor, DirectTV, HP, Samsung, Bell Canada, ...)  \n",
    "\n",
    "![](https://github.com/pplonski/budapest-ml-forum-2022/raw/main/media/industry-experience.png)"
   ]
  },
  {
   "cell_type": "markdown",
   "metadata": {
    "slideshow": {
     "slide_type": "slide"
    }
   },
   "source": [
    "## Właściwe narzędzia i robota zrobiona\n",
    "\n",
    "![](https://github.com/pplonski/pystok/raw/main/media/job-done.jpg)"
   ]
  },
  {
   "cell_type": "markdown",
   "metadata": {
    "slideshow": {
     "slide_type": "slide"
    }
   },
   "source": [
    "## MLJAR - Narzędzia do Data Science \n",
    "\n",
    "W 2016, założyłem firmę [MLJAR](https://mljar.com) która pracuje nad narzędziami do Data Science.\n",
    "\n",
    "<center>\n",
    "<img \n",
    "    src=\"https://github.com/mljar/visual-identity/raw/main/logo/logo_blue.png\" \n",
    "    alt=\"MLJAR logo\"\n",
    "    width=\"300px\" />\n",
    "</center>"
   ]
  },
  {
   "cell_type": "markdown",
   "metadata": {
    "slideshow": {
     "slide_type": "slide"
    }
   },
   "source": [
    "## MLJAR AutoML\n",
    "\n",
    "Open-source Python package that works with tabular data\n",
    "\n",
    "![](https://raw.githubusercontent.com/mljar/visual-identity/main/media/infograph.png)\n"
   ]
  },
  {
   "cell_type": "markdown",
   "metadata": {
    "slideshow": {
     "slide_type": "slide"
    }
   },
   "source": [
    "![](https://github.com/mljar/mljar-examples/raw/master/media/decision_tree_summary.gif)"
   ]
  },
  {
   "cell_type": "markdown",
   "metadata": {
    "slideshow": {
     "slide_type": "slide"
    }
   },
   "source": [
    "## 4 tryby pracy\n",
    "\n",
    "![](https://raw.githubusercontent.com/mljar/visual-identity/main/media/mljar_modes.png)"
   ]
  },
  {
   "cell_type": "markdown",
   "metadata": {
    "slideshow": {
     "slide_type": "slide"
    }
   },
   "source": [
    "## Bloxs \n",
    "\n",
    "![](https://github.com/mljar/bloxs/raw/main/docs/media/several_bloxs_2.png)\n",
    "![](https://github.com/mljar/bloxs/raw/main/docs/media/several_bloxs.png)"
   ]
  },
  {
   "cell_type": "markdown",
   "metadata": {
    "slideshow": {
     "slide_type": "slide"
    }
   },
   "source": [
    "## Mercury\n",
    "\n",
    "Open-source framework do zamiany notatników na aplikacje webowe / slajdy / dashboardy / raporty\n",
    "\n",
    "![](https://raw.githubusercontent.com/mljar/visual-identity/main/mercury/mercury_convert_notebook_2.png)"
   ]
  },
  {
   "cell_type": "markdown",
   "metadata": {
    "slideshow": {
     "slide_type": "slide"
    }
   },
   "source": [
    "# Co to te notatniki?\n",
    "\n",
    "![](https://github.com/pplonski/pystok/raw/main/media/example-notebook.png)"
   ]
  },
  {
   "cell_type": "markdown",
   "metadata": {
    "slideshow": {
     "slide_type": "slide"
    }
   },
   "source": [
    "## Jak dzielić się wynikami?\n",
    "\n",
    "![](https://github.com/pplonski/pystok/raw/main/media/analysis-ready.jpg)"
   ]
  },
  {
   "cell_type": "markdown",
   "metadata": {
    "slideshow": {
     "slide_type": "slide"
    }
   },
   "source": [
    "## Jak dzielić się wynikami z notatnika?\n",
    "\n",
    "### Jeżeli nie podzelimy się wynikami będą one bez użyteczne\n",
    "\n",
    "### Największy problem, jak dzialić się wynikami z nieprogramistami?"
   ]
  },
  {
   "cell_type": "markdown",
   "metadata": {
    "slideshow": {
     "slide_type": "slide"
    }
   },
   "source": [
    "## Udostępnienie kodu źródłowego notatnika\n",
    "\n",
    "- końcowy użytkownik musi znać Pythona\n",
    "- musi posiadać takie same środowisko (pakiery, wersje, hardware)\n",
    "- musi mieć dostęp do danych\n",
    "\n",
    "![](https://github.com/pplonski/budapest-ml-forum-2022/raw/main/media/share-notebook-photo.png)"
   ]
  },
  {
   "cell_type": "markdown",
   "metadata": {
    "slideshow": {
     "slide_type": "slide"
    }
   },
   "source": [
    "## Stworzenie prezentacji\n",
    "\n",
    "- łatwe do dzielenia się, \n",
    "- proste do stworzenia\n",
    "- prezentacje są statyczne, trzeba je ręcznie aktualizować\n",
    "\n",
    "![](https://github.com/pplonski/budapest-ml-forum-2022/raw/main/media/presentation-photo.png)"
   ]
  },
  {
   "cell_type": "markdown",
   "metadata": {
    "slideshow": {
     "slide_type": "slide"
    }
   },
   "source": [
    "## Przepisanie rezultatów na web-framework\n",
    "\n",
    "- pracochłonne\n",
    "- konieczna znajomość webowych technologii (HTML/CSS/JS)\n",
    "\n",
    "### Pythonowe frameworki do UI\n",
    "\n",
    "- voila+ipywidgets, streamlit, dash\n",
    "- nadal trzeba przepisać notatnik \n",
    "- wymieszanie kodu UI z kodem analityki\n"
   ]
  },
  {
   "cell_type": "markdown",
   "metadata": {
    "slideshow": {
     "slide_type": "slide"
    }
   },
   "source": [
    "## Mercury\n",
    "\n",
    "- potrafi zamienić notatnik na web app / report / dashboard / slajdy\n",
    "- widgety dodawane do notatnika na podastawie YAML nagłówka\n",
    "- użytkownik może zmienić wartości parametrów i przeliczyć cały notatnik\n",
    "\n",
    "\n",
    "![](https://github.com/mljar/visual-identity/raw/main/mercury/mercury-new-way-to-share-python-notebook.png)\n"
   ]
  },
  {
   "cell_type": "markdown",
   "metadata": {
    "slideshow": {
     "slide_type": "slide"
    }
   },
   "source": [
    "## Przykład?"
   ]
  },
  {
   "cell_type": "markdown",
   "metadata": {
    "slideshow": {
     "slide_type": "fragment"
    }
   },
   "source": [
    "## Ta prezentacja!"
   ]
  },
  {
   "cell_type": "code",
   "execution_count": 4,
   "metadata": {
    "slideshow": {
     "slide_type": "slide"
    }
   },
   "outputs": [
    {
     "data": {
      "text/markdown": [
       "# Cześć Białystok!"
      ],
      "text/plain": [
       "<IPython.core.display.Markdown object>"
      ]
     },
     "execution_count": 4,
     "metadata": {},
     "output_type": "execute_result"
    }
   ],
   "source": [
    "from IPython.display import Markdown\n",
    "\n",
    "Markdown(f\"# {greetings} Białystok!\")"
   ]
  },
  {
   "cell_type": "markdown",
   "metadata": {
    "slideshow": {
     "slide_type": "slide"
    }
   },
   "source": [
    "## Aktualizacja wykresu w trakcji prezentacji"
   ]
  },
  {
   "cell_type": "code",
   "execution_count": 3,
   "metadata": {
    "slideshow": {
     "slide_type": "fragment"
    }
   },
   "outputs": [
    {
     "data": {
      "image/png": "[encoded data removed]",
      "text/plain": [
       "<Figure size 432x288 with 1 Axes>"
      ]
     },
     "metadata": {
      "needs_background": "light"
     },
     "output_type": "display_data"
    }
   ],
   "source": [
    "from matplotlib import pyplot as plt\n",
    "import random\n",
    "\n",
    "x = [random.gauss(0, 1) for _ in range(points_count)]\n",
    "y = [random.gauss(0, 1) for _ in range(points_count)]\n",
    "_=plt.plot(x, y, '.')"
   ]
  },
  {
   "cell_type": "markdown",
   "metadata": {
    "slideshow": {
     "slide_type": "slide"
    }
   },
   "source": [
    "## Nagłówek YAML\n",
    "\n",
    "![](https://github.com/pplonski/budapest-ml-forum-2022/raw/main/media/yaml-config.png)"
   ]
  },
  {
   "cell_type": "markdown",
   "metadata": {
    "slideshow": {
     "slide_type": "slide"
    }
   },
   "source": [
    "## Widgets jako YAML\n",
    "\n",
    "![](https://github.com/pplonski/budapest-ml-forum-2022/raw/main/media/widgets-yaml.png)"
   ]
  },
  {
   "cell_type": "markdown",
   "metadata": {
    "slideshow": {
     "slide_type": "slide"
    }
   },
   "source": [
    "### Architektura  - dodawanie notatnika do systemu\n",
    "\n",
    "- `nbconvert` zamienia plik `ipynb` na HTML\n",
    "- infomacje z YAML zapisywane są w bazie danych\n",
    "\n",
    "![](https://github.com/pplonski/budapest-ml-forum-2022/raw/main/media/notebook-init.png)"
   ]
  },
  {
   "cell_type": "markdown",
   "metadata": {
    "slideshow": {
     "slide_type": "slide"
    }
   },
   "source": [
    "### Architektura - przeliczenie notatnika\n",
    "\n",
    "\n",
    "![](https://github.com/pplonski/budapest-ml-forum-2022/raw/main/media/notebook-run.png)"
   ]
  },
  {
   "cell_type": "markdown",
   "metadata": {
    "slideshow": {
     "slide_type": "slide"
    }
   },
   "source": [
    "## Deployment\n",
    "\n",
    "- rozwiązanie zbudowane na Django, może być używane wszędzie gdzie jest Python\n",
    "- bardzo prosty deployement na Heroku i HuggingFace\n",
    "- `docker-compose` dla AWS, Azure, GCP, DigitalOcean, ...\n",
    "\n",
    "![](https://mercury-docs.readthedocs.io/en/latest/media/mercury-hugging-face-spaces.gif)"
   ]
  },
  {
   "cell_type": "markdown",
   "metadata": {
    "slideshow": {
     "slide_type": "slide"
    }
   },
   "source": [
    "# Mercury - super ficzery"
   ]
  },
  {
   "cell_type": "markdown",
   "metadata": {
    "slideshow": {
     "slide_type": "subslide"
    }
   },
   "source": [
    "## Built-in app gallery\n",
    "\n",
    "![](https://github.com/pplonski/budapest-ml-forum-2022/raw/main/media/mercury_share_multiple_notebooks.png)"
   ]
  },
  {
   "cell_type": "markdown",
   "metadata": {
    "slideshow": {
     "slide_type": "subslide"
    }
   },
   "source": [
    "## Download executed notebook\n",
    "\n",
    "![](https://github.com/pplonski/budapest-ml-forum-2022/raw/main/media/download_executed_notebook.gif)"
   ]
  },
  {
   "cell_type": "markdown",
   "metadata": {
    "slideshow": {
     "slide_type": "subslide"
    }
   },
   "source": [
    "## Authentication\n",
    "\n",
    "![](https://github.com/pplonski/budapest-ml-forum-2022/raw/main/media/mercury_add_authentication_to_notebook.gif)"
   ]
  },
  {
   "cell_type": "markdown",
   "metadata": {
    "slideshow": {
     "slide_type": "subslide"
    }
   },
   "source": [
    "## Authentication\n",
    "\n",
    "\n",
    "### Share with authenticated users 🔒\n",
    "\n",
    "```\n",
    "title: Secret app \n",
    "description: My app with secret \n",
    "share: private\n",
    "params:\n",
    "    # widgets code ...\n",
    "```    \n",
    "\n",
    "### Share with selected users 👧👦\n",
    "\n",
    "```\n",
    "title: Secret app \n",
    "description: My app with secret \n",
    "share: alice, bob\n",
    "params:\n",
    "    # widgets code ...\n",
    "```"
   ]
  },
  {
   "cell_type": "markdown",
   "metadata": {
    "slideshow": {
     "slide_type": "subslide"
    }
   },
   "source": [
    "#### Easily embed (even here!)\n",
    "\n",
    "```\n",
    "<iframe src=\"https://mercury.mljar.com/app/3/embed\" height=\"700px\" width=\"1600px\"></iframe>\n",
    "```\n",
    "\n",
    "<iframe src=\"https://mercury.mljar.com/app/3/embed\" height=\"700px\" width=\"1600px\"></iframe>"
   ]
  },
  {
   "cell_type": "markdown",
   "metadata": {
    "slideshow": {
     "slide_type": "subslide"
    }
   },
   "source": [
    "## Schedule\n",
    "\n",
    "Bardzo łatwo ustawić notatnik do wykonywania w określonych interwałach czasowych:\n",
    "\n",
    "```\n",
    "---\n",
    "title: Notatnik\n",
    "description: Ten notatnik wykonuje się co 15 minut\n",
    "schedule: \"*/15 * * * *\"\n",
    "---\n",
    "```"
   ]
  },
  {
   "cell_type": "markdown",
   "metadata": {
    "slideshow": {
     "slide_type": "slide"
    }
   },
   "source": [
    "# Więcej demo!"
   ]
  }
 ],
 "metadata": {
  "celltoolbar": "Slideshow",
  "kernelspec": {
   "display_name": "pystokenv",
   "language": "python",
   "name": "pystokenv"
  },
  "language_info": {
   "codemirror_mode": {
    "name": "ipython",
    "version": 3
   },
   "file_extension": ".py",
   "mimetype": "text/x-python",
   "name": "python",
   "nbconvert_exporter": "python",
   "pygments_lexer": "ipython3",
   "version": "3.8.10"
  }
 },
 "nbformat": 4,
 "nbformat_minor": 4
}
