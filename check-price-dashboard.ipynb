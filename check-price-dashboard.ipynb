{
 "cells": [
  {
   "cell_type": "raw",
   "metadata": {},
   "source": [
    "---\n",
    "title: Check price with charts \n",
    "decription: Check crypto prices and plot charts\n",
    "schedule: '*/1 * * * *'\n",
    "---"
   ]
  },
  {
   "cell_type": "markdown",
   "metadata": {},
   "source": [
    "# 📈 Crypto price tracker with charts"
   ]
  },
  {
   "cell_type": "code",
   "execution_count": 1,
   "metadata": {},
   "outputs": [],
   "source": [
    "import requests\n",
    "import pandas as pd\n",
    "import mplfinance as mpf\n",
    "from bloxs import B"
   ]
  },
  {
   "cell_type": "code",
   "execution_count": 2,
   "metadata": {},
   "outputs": [],
   "source": [
    "symbol = \"BTCUSDT\""
   ]
  },
  {
   "cell_type": "code",
   "execution_count": 3,
   "metadata": {},
   "outputs": [],
   "source": [
    "def get_data(symbol):\n",
    "    response = requests.get(f\"https://www.binance.com/api/v1/klines?symbol={symbol}&interval=1h&limit=48\")\n",
    "    candles = response.json()\n",
    "    df = pd.DataFrame(candles, columns=[\"Open time\", \"Open\", \"High\", \"Low\", \"Close\", \"Volume\", \n",
    "                                    \"Close time\", \"Quote\", \"Trades\", \"BaseVol\", \"QuoteVol\", \"Igonre\"])\n",
    "    df[\"Date\"] = pd.to_datetime(df[\"Open time\"], unit='ms')\n",
    "    for col in [\"Open\", \"High\", \"Low\", \"Close\", \"Volume\"]:\n",
    "        df[col] = df[col].astype(float)\n",
    "    df = df.set_index('Date')\n",
    "    return df"
   ]
  },
  {
   "cell_type": "code",
   "execution_count": 4,
   "metadata": {},
   "outputs": [],
   "source": [
    "df = get_data(symbol)"
   ]
  },
  {
   "cell_type": "code",
   "execution_count": 5,
   "metadata": {},
   "outputs": [],
   "source": [
    "latest_price = df[\"Close\"][-1]\n",
    "price_chanage_24hours = (df[\"Close\"][-2] - df[\"Close\"][-24]) / df[\"Close\"][-2] * 100.0\n",
    "volume_change_24hours = (df[\"Volume\"][-2] - df[\"Volume\"][-24]) / df[\"Volume\"][-2] * 100.0"
   ]
  },
  {
   "cell_type": "code",
   "execution_count": 6,
   "metadata": {},
   "outputs": [
    {
     "data": {
      "text/html": [
       "<div style=\"display: flex; background: #fff\">\n",
       "<div style=\"text-align: center; width: 34%; border: 1px solid #e5e5e5; margin: 10px; padding-top: 40px; padding-bottom: 40px; background: white; border-radius:5px\">\n",
       "  <span style=\"font-size: 4em; color: #5a5a5a; font-family: monospace; \">29,327</span>\n",
       "  \n",
       "  <span style=\"font-size: 2em; color: gray; display: block; padding-top: 20px; font-family: monospace; line-height: 1.3em;\">Latest price</span>\n",
       "  \n",
       "  \n",
       "</div>\n",
       "\n",
       "  \n",
       "  \n",
       "<div style=\"text-align: center; width: 34%; border: 1px solid #e5e5e5; margin: 10px; padding-top: 40px; padding-bottom: 40px; background: white; border-radius:5px\">\n",
       "  <span style=\"font-size: 4em; color: #5a5a5a; font-family: monospace; \">-3.60%</span>\n",
       "  \n",
       "  <span style=\"font-size: 2em; color: gray; display: block; padding-top: 20px; font-family: monospace; line-height: 1.3em;\">24h % price change</span>\n",
       "  \n",
       "  \n",
       "</div>\n",
       "\n",
       "  \n",
       "  \n",
       "<div style=\"text-align: center; width: 34%; border: 1px solid #e5e5e5; margin: 10px; padding-top: 40px; padding-bottom: 40px; background: white; border-radius:5px\">\n",
       "  <span style=\"font-size: 4em; color: #5a5a5a; font-family: monospace; \">4.52%</span>\n",
       "  \n",
       "  <span style=\"font-size: 2em; color: gray; display: block; padding-top: 20px; font-family: monospace; line-height: 1.3em;\">24h % volume change</span>\n",
       "  \n",
       "  \n",
       "</div>\n",
       "\n",
       "  \n",
       "  </div>"
      ],
      "text/plain": [
       "<bloxs.bloxs.B at 0x7efd16043e50>"
      ]
     },
     "execution_count": 6,
     "metadata": {},
     "output_type": "execute_result"
    }
   ],
   "source": [
    "B([\n",
    "    B(f\"{int(df['Close'][-1]):,}\", \"Latest price\"),\n",
    "    B(f\"{price_chanage_24hours:.2f}%\", \"24h % price change\"),\n",
    "    B(f\"{volume_change_24hours:.2f}%\", \"24h % volume change\"),\n",
    "    \n",
    "    \n",
    "])"
   ]
  },
  {
   "cell_type": "code",
   "execution_count": 7,
   "metadata": {},
   "outputs": [
    {
     "data": {
      "image/png": "[encoded data removed]",
      "text/plain": [
       "<Figure size 576x414 with 2 Axes>"
      ]
     },
     "metadata": {
      "needs_background": "light"
     },
     "output_type": "display_data"
    }
   ],
   "source": [
    "mpf.plot(df, type='candle')"
   ]
  },
  {
   "cell_type": "code",
   "execution_count": null,
   "metadata": {},
   "outputs": [],
   "source": []
  }
 ],
 "metadata": {
  "kernelspec": {
   "display_name": "pystokenv",
   "language": "python",
   "name": "pystokenv"
  },
  "language_info": {
   "codemirror_mode": {
    "name": "ipython",
    "version": 3
   },
   "file_extension": ".py",
   "mimetype": "text/x-python",
   "name": "python",
   "nbconvert_exporter": "python",
   "pygments_lexer": "ipython3",
   "version": "3.8.0"
  }
 },
 "nbformat": 4,
 "nbformat_minor": 4
}
